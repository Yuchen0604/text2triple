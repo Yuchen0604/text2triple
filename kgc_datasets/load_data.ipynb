{
 "cells": [
  {
   "cell_type": "code",
   "execution_count": 2,
   "id": "2b06b210",
   "metadata": {},
   "outputs": [
    {
     "name": "stderr",
     "output_type": "stream",
     "text": [
      "c:\\Users\\yuche\\anaconda3\\envs\\llm4kgc\\Lib\\site-packages\\tqdm\\auto.py:21: TqdmWarning: IProgress not found. Please update jupyter and ipywidgets. See https://ipywidgets.readthedocs.io/en/stable/user_install.html\n",
      "  from .autonotebook import tqdm as notebook_tqdm\n",
      "c:\\Users\\yuche\\anaconda3\\envs\\llm4kgc\\Lib\\site-packages\\huggingface_hub\\file_download.py:142: UserWarning: `huggingface_hub` cache-system uses symlinks by default to efficiently store duplicated files but your machine does not support them in C:\\Users\\yuche\\.cache\\huggingface\\hub\\datasets--DFKI-SLT--conll04. Caching files will still work but in a degraded version that might require more space on your disk. This warning can be disabled by setting the `HF_HUB_DISABLE_SYMLINKS_WARNING` environment variable. For more details, see https://huggingface.co/docs/huggingface_hub/how-to-cache#limitations.\n",
      "To support symlinks on Windows, you either need to activate Developer Mode or to run Python as an administrator. In order to activate developer mode, see this article: https://docs.microsoft.com/en-us/windows/apps/get-started/enable-your-device-for-development\n",
      "  warnings.warn(message)\n",
      "Generating train split: 100%|██████████| 922/922 [00:00<?, ? examples/s]\n",
      "Generating validation split: 100%|██████████| 231/231 [00:00<00:00, 13771.75 examples/s]\n",
      "Generating test split: 100%|██████████| 288/288 [00:00<00:00, 232389.29 examples/s]\n"
     ]
    }
   ],
   "source": [
    "from datasets import load_dataset\n",
    "\n",
    "ds = load_dataset(\"DFKI-SLT/conll04\")"
   ]
  },
  {
   "cell_type": "code",
   "execution_count": 3,
   "id": "391a9261",
   "metadata": {},
   "outputs": [
    {
     "name": "stdout",
     "output_type": "stream",
     "text": [
      "<class 'datasets.dataset_dict.DatasetDict'>\n"
     ]
    }
   ],
   "source": [
    "print(type(ds))"
   ]
  },
  {
   "cell_type": "code",
   "execution_count": 4,
   "id": "4cbb48a5",
   "metadata": {},
   "outputs": [
    {
     "name": "stdout",
     "output_type": "stream",
     "text": [
      "Dataset({\n",
      "    features: ['entities', 'tokens', 'relations', 'orig_id'],\n",
      "    num_rows: 288\n",
      "})\n"
     ]
    }
   ],
   "source": [
    "test_dataset  = load_dataset(\"DFKI-SLT/conll04\", split=\"test\")\n",
    "print( test_dataset)"
   ]
  },
  {
   "cell_type": "code",
   "execution_count": 8,
   "id": "5b1dbf08",
   "metadata": {},
   "outputs": [
    {
     "name": "stdout",
     "output_type": "stream",
     "text": [
      "{\n",
      "    \"entities\": [\n",
      "        {\n",
      "            \"end\": 5,\n",
      "            \"start\": 4,\n",
      "            \"type\": \"Loc\"\n",
      "        },\n",
      "        {\n",
      "            \"end\": 10,\n",
      "            \"start\": 9,\n",
      "            \"type\": \"Loc\"\n",
      "        },\n",
      "        {\n",
      "            \"end\": 13,\n",
      "            \"start\": 10,\n",
      "            \"type\": \"Org\"\n",
      "        },\n",
      "        {\n",
      "            \"end\": 17,\n",
      "            \"start\": 15,\n",
      "            \"type\": \"Other\"\n",
      "        },\n",
      "        {\n",
      "            \"end\": 20,\n",
      "            \"start\": 17,\n",
      "            \"type\": \"Other\"\n",
      "        }\n",
      "    ],\n",
      "    \"tokens\": [\n",
      "        \"Newspaper\",\n",
      "        \"`\",\n",
      "        \"Explains\",\n",
      "        \"'\",\n",
      "        \"U.S.\",\n",
      "        \"Interests\",\n",
      "        \"Section\",\n",
      "        \"Events\",\n",
      "        \"FL1402001894\",\n",
      "        \"Havana\",\n",
      "        \"Radio\",\n",
      "        \"Reloj\",\n",
      "        \"Network\",\n",
      "        \"in\",\n",
      "        \"Spanish\",\n",
      "        \"2100\",\n",
      "        \"GMT\",\n",
      "        \"13\",\n",
      "        \"Feb\",\n",
      "        \"94\"\n",
      "    ],\n",
      "    \"relations\": [\n",
      "        {\n",
      "            \"head\": 2,\n",
      "            \"tail\": 1,\n",
      "            \"type\": \"OrgBased_In\"\n",
      "        }\n",
      "    ],\n",
      "    \"orig_id\": 3255\n",
      "}\n"
     ]
    }
   ],
   "source": [
    "import json\n",
    "\n",
    "# Assuming ds is a dictionary-like object\n",
    "print(json.dumps(ds['train'][0], indent=4))"
   ]
  },
  {
   "cell_type": "code",
   "execution_count": null,
   "id": "d21c2c43",
   "metadata": {},
   "outputs": [
    {
     "name": "stderr",
     "output_type": "stream",
     "text": [
      "c:\\Users\\yuche\\anaconda3\\envs\\llm4kgc\\Lib\\site-packages\\huggingface_hub\\file_download.py:142: UserWarning: `huggingface_hub` cache-system uses symlinks by default to efficiently store duplicated files but your machine does not support them in C:\\Users\\yuche\\.cache\\huggingface\\hub\\datasets--Babelscape--rebel-dataset. Caching files will still work but in a degraded version that might require more space on your disk. This warning can be disabled by setting the `HF_HUB_DISABLE_SYMLINKS_WARNING` environment variable. For more details, see https://huggingface.co/docs/huggingface_hub/how-to-cache#limitations.\n",
      "To support symlinks on Windows, you either need to activate Developer Mode or to run Python as an administrator. In order to activate developer mode, see this article: https://docs.microsoft.com/en-us/windows/apps/get-started/enable-your-device-for-development\n",
      "  warnings.warn(message)\n",
      "Generating train split: 100%|██████████| 3120296/3120296 [00:01<00:00, 1844884.18 examples/s]\n",
      "Generating validation split: 100%|██████████| 172860/172860 [00:00<00:00, 1726995.83 examples/s]\n",
      "Generating test split: 100%|██████████| 173601/173601 [00:00<00:00, 1598842.74 examples/s]\n"
     ]
    }
   ],
   "source": [
    "ds = load_dataset(\"Babelscape/rebel-dataset\", split=\"train\", trust_remote_code=True)\n"
   ]
  },
  {
   "cell_type": "code",
   "execution_count": 19,
   "id": "28d83cef",
   "metadata": {},
   "outputs": [
    {
     "name": "stdout",
     "output_type": "stream",
     "text": [
      "{\n",
      "    \"id\": \"Q7185360-1\",\n",
      "    \"title\": \"Philippine one hundred-peso note\",\n",
      "    \"context\": \"The Philippine one hundred-peso note ( Filipino: \\\"Sandaang Piso\\\" ) ( \\u20b1100 ) is a denomination of Philippine currency . \",\n",
      "    \"triplets\": \"<triplet> Philippine one hundred-peso note <subj> 100 <obj> face value\"\n",
      "}\n"
     ]
    }
   ],
   "source": [
    "print(json.dumps(ds[0], indent=4))"
   ]
  }
 ],
 "metadata": {
  "kernelspec": {
   "display_name": "llm4kgc",
   "language": "python",
   "name": "python3"
  },
  "language_info": {
   "codemirror_mode": {
    "name": "ipython",
    "version": 3
   },
   "file_extension": ".py",
   "mimetype": "text/x-python",
   "name": "python",
   "nbconvert_exporter": "python",
   "pygments_lexer": "ipython3",
   "version": "3.12.9"
  }
 },
 "nbformat": 4,
 "nbformat_minor": 5
}
